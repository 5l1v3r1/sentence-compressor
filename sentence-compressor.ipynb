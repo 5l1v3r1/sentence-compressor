{
 "cells": [
  {
   "cell_type": "markdown",
   "metadata": {},
   "source": [
    "# Sentence compressor"
   ]
  },
  {
   "cell_type": "markdown",
   "metadata": {},
   "source": [
    "### Project on natural language processing"
   ]
  },
  {
   "cell_type": "markdown",
   "metadata": {},
   "source": [
    "##### Reading the dataset"
   ]
  },
  {
   "cell_type": "code",
   "execution_count": 1,
   "metadata": {
    "collapsed": false
   },
   "outputs": [
    {
     "name": "stderr",
     "output_type": "stream",
     "text": [
      "Using gpu device 0: GeForce GTX 960M (CNMeM is enabled with initial size: 75.0% of memory, cuDNN 5103)\n",
      "/usr/local/lib/python2.7/dist-packages/theano/sandbox/cuda/__init__.py:600: UserWarning: Your cuDNN version is more recent than the one Theano officially supports. If you see any problems, try updating Theano or downgrading cuDNN to version 5.\n",
      "  warnings.warn(warn)\n",
      "/usr/local/lib/python2.7/dist-packages/theano/tensor/signal/downsample.py:6: UserWarning: downsample module has been moved to the theano.tensor.signal.pool module.\n",
      "  \"downsample module has been moved to the theano.tensor.signal.pool module.\")\n"
     ]
    }
   ],
   "source": [
    "import theano\n",
    "import theano.tensor as T\n",
    "import lasagne\n",
    "import numpy as np"
   ]
  },
  {
   "cell_type": "code",
   "execution_count": 2,
   "metadata": {
    "collapsed": false
   },
   "outputs": [],
   "source": [
    "import compression_data"
   ]
  },
  {
   "cell_type": "code",
   "execution_count": 3,
   "metadata": {
    "collapsed": false
   },
   "outputs": [],
   "source": [
    "data = compression_data.load_compression_data(\"compression-data.json.gz\")"
   ]
  },
  {
   "cell_type": "markdown",
   "metadata": {},
   "source": [
    "Function that convert array of tokkens to string, either compressed or not"
   ]
  },
  {
   "cell_type": "code",
   "execution_count": 4,
   "metadata": {
    "collapsed": false
   },
   "outputs": [
    {
     "data": {
      "text/plain": [
       "u'Luis Suarez was spotted in London'"
      ]
     },
     "execution_count": 4,
     "metadata": {},
     "output_type": "execute_result"
    }
   ],
   "source": [
    "def prase_array_to_string(prase, compressed = False):\n",
    "    return ' '.join([t.form for t in filter(lambda t: t.label == 0 if compressed else True, prase)])\n",
    "prase_array_to_string(data[2], True)"
   ]
  },
  {
   "cell_type": "markdown",
   "metadata": {},
   "source": [
    "#### Reading the word2vec embedings"
   ]
  },
  {
   "cell_type": "code",
   "execution_count": 5,
   "metadata": {
    "collapsed": false
   },
   "outputs": [],
   "source": [
    "import gensim\n",
    "model = gensim.models.Word2Vec.load_word2vec_format('GoogleNews-vectors-negative300.bin', binary=True)"
   ]
  },
  {
   "cell_type": "markdown",
   "metadata": {},
   "source": [
    "Make embeding part of every token"
   ]
  },
  {
   "cell_type": "code",
   "execution_count": 6,
   "metadata": {
    "collapsed": false
   },
   "outputs": [],
   "source": [
    "from collections import namedtuple\n",
    "from numpy.random import normal\n",
    "\n",
    "np.random.seed(0)\n",
    "unk = np.random.normal(scale = 0.1, size=300)\n",
    "TokenWithEmb = namedtuple(\"TokenWithEmb\", \"form tag stem label emb\")\n",
    "data_with_emb = []\n",
    "\n",
    "for phrase in data:\n",
    "    new_phrase = []\n",
    "    for word in phrase:\n",
    "        new_phrase.append(TokenWithEmb(word.form, word.tag, word.stem, word.label, model[word.form]\n",
    "                                  if word.form in model else unk))\n",
    "    data_with_emb.append(new_phrase)\n",
    "del model"
   ]
  },
  {
   "cell_type": "markdown",
   "metadata": {},
   "source": [
    "#### Assign number to every tag"
   ]
  },
  {
   "cell_type": "code",
   "execution_count": 7,
   "metadata": {
    "collapsed": false
   },
   "outputs": [],
   "source": [
    "all_tags = [token.tag for phrase in data_with_emb for token in phrase]\n",
    "tags_dict = {tag:i for i, tag in enumerate(set(all_tags))}"
   ]
  },
  {
   "cell_type": "markdown",
   "metadata": {
    "collapsed": true
   },
   "source": [
    "##### Split the dataset into train, test and dev sets"
   ]
  },
  {
   "cell_type": "code",
   "execution_count": 8,
   "metadata": {
    "collapsed": false
   },
   "outputs": [],
   "source": [
    "from sklearn.cross_validation import train_test_split\n",
    "train_with_dev, test_set = data_with_emb[1000:], data_with_emb[:1000]\n",
    "train_set, dev_set = train_test_split(train_with_dev, test_size = 1000, random_state = 0)"
   ]
  },
  {
   "cell_type": "code",
   "execution_count": 9,
   "metadata": {
    "collapsed": false
   },
   "outputs": [
    {
     "data": {
      "text/plain": [
       "(1000, 1000, 8000)"
      ]
     },
     "execution_count": 9,
     "metadata": {},
     "output_type": "execute_result"
    }
   ],
   "source": [
    "len(test_set), len(dev_set), len(train_set)"
   ]
  },
  {
   "cell_type": "markdown",
   "metadata": {},
   "source": [
    "#### Function to iterate over phrases"
   ]
  },
  {
   "cell_type": "markdown",
   "metadata": {},
   "source": [
    "This function return one phrase at each yield, first field is matrix of embedings, second vector of tags encodings, third is vector of answers"
   ]
  },
  {
   "cell_type": "code",
   "execution_count": 10,
   "metadata": {
    "collapsed": false
   },
   "outputs": [],
   "source": [
    "def iterate (dataset, shuffle = True):\n",
    "    perm = np.random.permutation(len(dataset)) if shuffle else range(len(dataset))\n",
    "    for i in perm:\n",
    "        yield (np.vstack(map(lambda token: token.emb, dataset[i])),\n",
    "               np.array(map(lambda token: tags_dict[token.tag], dataset[i])),\n",
    "               np.array(map(lambda token: token.label, dataset[i])))"
   ]
  },
  {
   "cell_type": "markdown",
   "metadata": {},
   "source": [
    "#### Defining the network"
   ]
  },
  {
   "cell_type": "code",
   "execution_count": 11,
   "metadata": {
    "collapsed": false
   },
   "outputs": [],
   "source": [
    "X_emb = T.matrix('input','float32')\n",
    "X_tag = T.ivector('tag')\n",
    "Y = T.ivector('target')\n",
    "embeding_size = 300\n",
    "tag_emb_size = 200\n",
    "rnn_size = 200\n",
    "hid_size = 200\n",
    "def network_architecture():\n",
    "    #Input layer for word2vec embeding\n",
    "    l_emb_in = lasagne.layers.InputLayer(shape=(None, embeding_size), input_var = X_emb)\n",
    "    \n",
    "    #Input layer for tag id\n",
    "    l_tag_in = lasagne.layers.InputLayer(shape=(None, ),input_var = X_tag)\n",
    "    \n",
    "    #Embeding layer for tags\n",
    "    l_emb = lasagne.layers.EmbeddingLayer(l_tag_in, input_size=len(tags_dict), output_size = tag_emb_size)\n",
    "    \n",
    "    #Concat word2vec embeding and tags embeding\n",
    "    l_concat = lasagne.layers.ConcatLayer([l_emb_in, l_emb], axis = 1)\n",
    "    \n",
    "    #Reshape previous layer to fit RNN layer format \n",
    "    l_reshape = lasagne.layers.ReshapeLayer(l_concat, shape = (1, -1, embeding_size + tag_emb_size))\n",
    "    \n",
    "    #First recurent forward and backward layer and concatenation of them\n",
    "    l_rnn_forward = lasagne.layers.LSTMLayer(l_reshape, grad_clipping = 100, num_units = rnn_size)\n",
    "    l_rnn_backward = lasagne.layers.LSTMLayer(l_reshape, grad_clipping = 100, num_units = rnn_size, backwards=True)\n",
    "    l_rnn = lasagne.layers.ConcatLayer([l_rnn_forward, l_rnn_backward], axis = 2)\n",
    "    \n",
    "    \n",
    "    l_dropout = lasagne.layers.DropoutLayer(l_rnn)\n",
    "    \n",
    "    #Second recurent layer\n",
    "    l_rnn_forward = lasagne.layers.LSTMLayer(l_dropout, grad_clipping = 100, num_units = rnn_size)\n",
    "    l_rnn_backward = lasagne.layers.LSTMLayer(l_dropout, grad_clipping = 100, num_units = rnn_size, backwards=True)\n",
    "    l_rnn = lasagne.layers.ConcatLayer([l_rnn_forward, l_rnn_backward], axis = 2)\n",
    "    \n",
    "    #Reshape to fit dence layer format\n",
    "    l_shp = lasagne.layers.ReshapeLayer(l_rnn, shape = (-1, 2 * rnn_size))    \n",
    "    \n",
    "    #Dence layer with dropout\n",
    "    l_hid = lasagne.layers.DenseLayer(l_shp, num_units = hid_size)    \n",
    "    l_dropout = lasagne.layers.DropoutLayer(l_hid, p=0.25)\n",
    "    \n",
    "    #Dence layer with softmax nonlinerity, for final answer\n",
    "    l_den = lasagne.layers.DenseLayer(l_dropout, num_units = 2, nonlinearity=lasagne.nonlinearities.identity)\n",
    "    l_sden = lasagne.layers.ReshapeLayer(l_den, shape = (-1, 2))\n",
    "    l_out = lasagne.layers.NonlinearityLayer(l_sden, nonlinearity=lasagne.nonlinearities.softmax)\n",
    "    \n",
    "    return l_out\n",
    "\n",
    "network = network_architecture()"
   ]
  },
  {
   "cell_type": "markdown",
   "metadata": {},
   "source": [
    "Defining the function for training and testing the network.  Network will be thrained using adam method."
   ]
  },
  {
   "cell_type": "code",
   "execution_count": 12,
   "metadata": {
    "collapsed": false
   },
   "outputs": [],
   "source": [
    "def compile_network(l_out, learnig_rate):\n",
    "    weights = lasagne.layers.get_all_params(l_out, trainable=True)\n",
    "    network_output = lasagne.layers.get_output(l_out)\n",
    "    network_output_det = lasagne.layers.get_output(l_out, deterministic = True)\n",
    "\n",
    "    loss = lasagne.objectives.categorical_crossentropy(network_output, Y).mean()\n",
    "    loss_det = lasagne.objectives.categorical_crossentropy(network_output_det, Y).mean()\n",
    "\n",
    "    updates = lasagne.updates.adam(loss, weights, learning_rate = learnig_rate)\n",
    "\n",
    "\n",
    "    #training functio\n",
    "    train = theano.function([X_emb, X_tag, Y], loss, updates=updates, allow_input_downcast=True)\n",
    "\n",
    "    #loss function\n",
    "    compute_cost = theano.function([X_emb, X_tag, Y], loss_det, allow_input_downcast=True)\n",
    "\n",
    "    #prediction function\n",
    "    probs = theano.function([X_emb, X_tag], network_output_det, allow_input_downcast=True)\n",
    "    \n",
    "    return train, compute_cost, probs\n",
    "\n",
    "train_func, compute_cost_func, probs_func = compile_network(network, 1e-3)"
   ]
  },
  {
   "cell_type": "markdown",
   "metadata": {},
   "source": [
    "#### Training the network"
   ]
  },
  {
   "cell_type": "markdown",
   "metadata": {},
   "source": [
    "Training cycle. Cycle consist of n_epoch. In each epoch network trained on every phrase in train set and score computed on dev set and train set 8 times per epoch. The network with highest dev score will be taken."
   ]
  },
  {
   "cell_type": "code",
   "execution_count": 13,
   "metadata": {
    "collapsed": false
   },
   "outputs": [
    {
     "name": "stdout",
     "output_type": "stream",
     "text": [
      "Batches 32000:\n",
      "train loss - Losses(acc=0.90536045495654305, f1=0.87921275041736224, log=0.22899899, match=0.337)\n",
      "dev loss - Losses(acc=0.8361646649810367, f1=0.78008166728535822, log=0.39740625, match=0.187)\n"
     ]
    }
   ],
   "source": [
    "from sklearn.metrics import roc_auc_score, accuracy_score, f1_score, log_loss\n",
    "from IPython.display import clear_output\n",
    "Losses = namedtuple(\"Losses\", \"acc f1 log match\")\n",
    "\n",
    "\n",
    "def compute_loss(dataset, threshold = 0.5):\n",
    "    Y_true = []\n",
    "    Y_predicted = []\n",
    "    log_scores = []\n",
    "    count_total_match = 0\n",
    "    for X_emb, X_tag, Y in iterate(dataset, False):\n",
    "        Y_true.append(Y)\n",
    "        log_scores.append(compute_cost_func(X_emb, X_tag, Y))        \n",
    "        p = (probs_func(X_emb, X_tag)[:,1] > threshold).astype(int)\n",
    "        Y_predicted.append(p)\n",
    "        count_total_match += np.array_equal(Y, p)\n",
    "   \n",
    "    Y_true = np.hstack(Y_true)\n",
    "    Y_predicted = np.hstack(Y_predicted)\n",
    "    \n",
    "    return Losses(acc = accuracy_score(Y_true, Y_predicted),\n",
    "                  f1 = f1_score(1-Y_true, 1-Y_predicted),\n",
    "                  log = np.mean(log_scores),\n",
    "                  match = count_total_match / float(len(dataset)))\n",
    "\n",
    "def trainig_cycle(n_epochs, batch_per_loss):\n",
    "    print(\"Training ...\")\n",
    "    np.random.seed(0)\n",
    "    \n",
    "    best_score = 10000000\n",
    "    best_weight = None\n",
    "    \n",
    "    train_losses = []\n",
    "    dev_losses = []    \n",
    "    for epoch in range(n_epochs):     \n",
    "        \n",
    "        for i, (X_emb, X_tag, Y) in enumerate(iterate(train_set)):\n",
    "            tr_loss = train_func(X_emb, X_tag,  Y)\n",
    "            batches = (epoch * len(train_set)  + i + 1)\n",
    "            \n",
    "            #compute score several times per epoch, in order for plots to be smoth\n",
    "            if batches % batch_per_loss == 0:\n",
    "                \n",
    "                train_loss = compute_loss(train_set)\n",
    "                train_losses.append(train_loss)\n",
    "                dev_loss = compute_loss(dev_set)\n",
    "                dev_losses.append(dev_loss)\n",
    "                \n",
    "                if dev_loss.log < best_score:\n",
    "                    best_weight = lasagne.layers.get_all_param_values(network)\n",
    "                    best_score = dev_loss.log\n",
    "\n",
    "                print \"Batches %d:\" % batches\n",
    "                print \"train loss - %s\" % (train_loss,)\n",
    "                print \"dev loss - %s\" % (dev_loss,)\n",
    "                clear_output(True)\n",
    "                \n",
    "    return train_losses, dev_losses, best_weight\n",
    "\n",
    "batches_per_epoch = 1000\n",
    "train_loss, dev_loss, best_weight = trainig_cycle(4, batches_per_epoch)\n",
    "lasagne.layers.set_all_param_values(network, best_weight)"
   ]
  },
  {
   "cell_type": "markdown",
   "metadata": {},
   "source": [
    "#### Pressision recall curve"
   ]
  },
  {
   "cell_type": "code",
   "execution_count": 14,
   "metadata": {
    "collapsed": false
   },
   "outputs": [
    {
     "name": "stdout",
     "output_type": "stream",
     "text": [
      "Populating the interactive namespace from numpy and matplotlib\n",
      "Best threshold 0.486323\n"
     ]
    },
    {
     "data": {
      "image/png": "[encoded data removed]",
      "text/plain": [
       "<matplotlib.figure.Figure at 0x7f26c758e150>"
      ]
     },
     "metadata": {},
     "output_type": "display_data"
    }
   ],
   "source": [
    "%pylab inline\n",
    "from sklearn.metrics import precision_recall_curve\n",
    "\n",
    "Y_predicted = []\n",
    "Y_true = []\n",
    "for i, (X_emb, X_tag, Y) in enumerate(iterate(dev_set, False)):\n",
    "    predictions = probs_func(X_emb, X_tag)[:, 1]\n",
    "    Y_predicted += list(predictions)\n",
    "    Y_true += list(Y)\n",
    "\n",
    "precision, recall, thresholds = precision_recall_curve(Y_true, Y_predicted)\n",
    "\n",
    "max_f1, best_threshold = max(map(lambda t: ( 2 * (t[0] * t[1]) / (t[0] + t[1]) ,t[2]), zip(precision, recall, thresholds)))\n",
    "\n",
    "print (\"Best threshold %f\" % best_threshold)\n",
    "\n",
    "plt.plot(recall, precision, label='Precision-Recall curve')\n",
    "plt.xlabel('Recall')\n",
    "plt.ylabel('Precision')\n",
    "plt.savefig(\"report/precision_recal_curve.pdf\")\n",
    "plt.show()"
   ]
  },
  {
   "cell_type": "markdown",
   "metadata": {},
   "source": [
    "#### Learing curves"
   ]
  },
  {
   "cell_type": "code",
   "execution_count": 15,
   "metadata": {
    "collapsed": false
   },
   "outputs": [
    {
     "data": {
      "image/png": "[encoded data removed]",
      "text/plain": [
       "<matplotlib.figure.Figure at 0x7f26c7f71e50>"
      ]
     },
     "metadata": {},
     "output_type": "display_data"
    }
   ],
   "source": [
    "plt.figure(figsize=(10,10))\n",
    "batches_per_epoch = 1000\n",
    "\n",
    "x_axis = np.array(range(len(train_loss))).astype(float) / (len(train_set) / batches_per_epoch)\n",
    "plt.subplot(221)\n",
    "plt.plot(x_axis, map(lambda x: x.log, train_loss), c='b', label = 'train')\n",
    "plt.plot(x_axis, map(lambda x: x.log, dev_loss), c='r', label = 'dev')\n",
    "plt.title('Enthrophy score, per token')\n",
    "plt.legend()\n",
    "\n",
    "plt.subplot(222)\n",
    "plt.plot(x_axis, map(lambda x: x.acc, train_loss), c='b', label = 'train')\n",
    "plt.plot(x_axis, map(lambda x: x.acc, dev_loss), c='r', label = 'dev')\n",
    "plt.title('Per token accuracy')\n",
    "\n",
    "\n",
    "\n",
    "plt.subplot(223)\n",
    "plt.plot(x_axis, map(lambda x: x.f1, train_loss), c='b', label = 'train')\n",
    "plt.plot(x_axis, map(lambda x: x.f1, dev_loss), c='r', label = 'dev')\n",
    "plt.title('Per token f1 score')\n",
    "\n",
    "\n",
    "plt.subplot(224)\n",
    "plt.plot(x_axis, map(lambda x: x.match, train_loss), c='b', label = 'train')\n",
    "plt.plot(x_axis, map(lambda x: x.match, dev_loss), c='r', label = 'dev')\n",
    "plt.title('Fraction of right compressions')\n",
    "\n",
    "plt.savefig(\"report/learning_curves.pdf\")\n",
    "plt.show()"
   ]
  },
  {
   "cell_type": "markdown",
   "metadata": {},
   "source": [
    "#### Evaluation"
   ]
  },
  {
   "cell_type": "markdown",
   "metadata": {},
   "source": [
    "Compute the accuracy and auc in every phrase and report the avearag. Also compute the number of phrases that match exactly."
   ]
  },
  {
   "cell_type": "code",
   "execution_count": 16,
   "metadata": {
    "collapsed": false
   },
   "outputs": [
    {
     "name": "stdout",
     "output_type": "stream",
     "text": [
      "Per token accuracy: 0.827522\n",
      "Per token f1 score: 0.768665\n",
      "Fraction of right compressions 0.163000\n"
     ]
    }
   ],
   "source": [
    "test_loss = compute_loss(test_set, 1 - best_threshold)\n",
    "print \"Per token accuracy: %f\" % test_loss.acc\n",
    "print \"Per token f1 score: %f\" % test_loss.f1\n",
    "print \"Fraction of right compressions %f\" % test_loss.match"
   ]
  },
  {
   "cell_type": "markdown",
   "metadata": {},
   "source": [
    "#### Print top10 best and top10 worst phrases"
   ]
  },
  {
   "cell_type": "code",
   "execution_count": 17,
   "metadata": {
    "collapsed": false
   },
   "outputs": [],
   "source": [
    "from itertools import compress\n",
    "def compress_phrase_from_test(number):\n",
    "    for X_emb, X_tag, Y in iterate(test_set[number:(number+1)], False):\n",
    "        probs = probs_func(X_emb, X_tag)\n",
    "        predictions = (probs[:,1] > best_threshold).astype(int)\n",
    "        phrase = prase_array_to_string(test_set[number])\n",
    "        phrase_compressed = prase_array_to_string(test_set[number], True)\n",
    "        phrase_compression_prediction = ' '.join(map(lambda x: x.form, compress(test_set[number], 1 - predictions)))\n",
    "        return [phrase, phrase_compressed, phrase_compression_prediction]\n"
   ]
  },
  {
   "cell_type": "code",
   "execution_count": 18,
   "metadata": {
    "collapsed": false
   },
   "outputs": [],
   "source": [
    "scores = []\n",
    "for i, (X_emb, X_tag, Y) in enumerate(iterate(test_set, False)):\n",
    "    predictions = (probs_func(X_emb, X_tag)[:, 1] > 0.5).astype(int)\n",
    "    scores.append((accuracy_score(Y, predictions), i))\n",
    "scores.sort()   "
   ]
  },
  {
   "cell_type": "markdown",
   "metadata": {},
   "source": [
    "** Worst compressions **"
   ]
  },
  {
   "cell_type": "code",
   "execution_count": 27,
   "metadata": {
    "collapsed": false
   },
   "outputs": [
    {
     "name": "stdout",
     "output_type": "stream",
     "text": [
      "Phrase:\t'A MAN who was shot in the head in front of his teammates as he walked off a soccer pitch knew his life was in danger an inquest heard'\n",
      "True compression:\t'who was shot in the head in front of his teammates as he walked off a soccer pitch'\n",
      "Compression prediction:\t'A MAN knew life was in danger'\n",
      "Phrase:\t'However that means high quality players are being left on the bench so which of this Newcastle quintet should feel most hard done by'\n",
      "True compression:\t'that means so which of this Newcastle quintet should feel most hard done by'\n",
      "Compression prediction:\t'players are being left'\n",
      "Phrase:\t'Stocks to watch on the Australian stock exchange at the close on Tuesday'\n",
      "True compression:\t'Stocks to watch at the close on Tuesday'\n",
      "Compression prediction:\t'Stocks to watch on the Australian stock exchange'\n",
      "Phrase:\t'Stocks to watch on the Australian stock exchange at the close on Wednesday'\n",
      "True compression:\t'Stocks to watch at the close on Wednesday'\n",
      "Compression prediction:\t'Stocks to watch on the Australian stock exchange'\n",
      "Phrase:\t'Gulf Finance House has signed an agreement with a consortium of British investors in order to sell 75 per cent of their stake in Leeds United Football Club'\n",
      "True compression:\t'Gulf Finance House has signed in order to sell 75 per cent of their stake in Leeds United Football Club'\n",
      "Compression prediction:\t'Gulf Finance House has signed an agreement with a'\n"
     ]
    }
   ],
   "source": [
    "bad = []\n",
    "for score, i in scores[:5]:\n",
    "    item = compress_phrase_from_test(i)\n",
    "    bad.append(item)\n",
    "    print \"Phrase:\\t'%s'\" % item[0]\n",
    "    print \"True compression:\\t'%s'\" % item[1]\n",
    "    print \"Compression prediction:\\t'%s'\" % item[2]"
   ]
  },
  {
   "cell_type": "markdown",
   "metadata": {},
   "source": [
    "** Best compressions **"
   ]
  },
  {
   "cell_type": "code",
   "execution_count": 28,
   "metadata": {
    "collapsed": false
   },
   "outputs": [
    {
     "name": "stdout",
     "output_type": "stream",
     "text": [
      "Phrase:\t'Aktia Bank is renewing its core banking system with a completion date in 2015'\n",
      "True compression:\t'Aktia Bank is renewing its core banking system'\n",
      "Compression prediction:\t'Aktia Bank is renewing its core banking system'\n",
      "Phrase:\t'The Galaxy S III is finally receiving the Android 4.3 update in India more than a month after the update started rolling out in the US and a few other regions'\n",
      "True compression:\t'The Galaxy S III is receiving the Android 4.3 update in India'\n",
      "Compression prediction:\t'The Galaxy S III is receiving the Android 4.3 update in India'\n",
      "Phrase:\t'A national child poverty charity says that over 18,000 children are living below the poverty line in Cornwall costing an estimated £ 196 million a year'\n",
      "True compression:\t'over 18,000 children are living below the poverty line in Cornwall'\n",
      "Compression prediction:\t'over 18,000 children are living below the poverty line in Cornwall'\n",
      "Phrase:\t'Nice Ride bikes will make their spring debut on city streets Saturday and riders can now keep them for twice as long'\n",
      "True compression:\t'Nice Ride bikes will make their spring debut'\n",
      "Compression prediction:\t'Nice Ride bikes will make their spring debut'\n",
      "Phrase:\t'Not following its key ally Saudi Arabia 's on Syria Pakistan Thursday asserted that Syrian people should decide their future set up'\n",
      "True compression:\t'Syrian people should decide their future set up'\n",
      "Compression prediction:\t'Syrian people should decide their future set up'\n"
     ]
    }
   ],
   "source": [
    "good = []\n",
    "for score, i in scores[-5:]:\n",
    "    item = compress_phrase_from_test(i)\n",
    "    good.append(item)\n",
    "    print \"Phrase:\\t'%s'\" % item[0]\n",
    "    print \"True compression:\\t'%s'\" % item[1]\n",
    "    print \"Compression prediction:\\t'%s'\" % item[2]"
   ]
  },
  {
   "cell_type": "code",
   "execution_count": 29,
   "metadata": {
    "collapsed": false
   },
   "outputs": [],
   "source": [
    "import pandas as pd\n",
    "pd.DataFrame(bad, columns=[\"Phrase\", \"True\", \"Predicted\"]).to_csv(\"report/bad_compressions.csv\", index=False, encoding='utf-8')\n",
    "pd.DataFrame(good, columns=[\"Phrase\", \"True\", \"Predicted\"]).to_csv(\"report/good_compressions.csv\", index=False, encoding='utf-8')"
   ]
  }
 ],
 "metadata": {
  "kernelspec": {
   "display_name": "Python 2",
   "language": "python",
   "name": "python2"
  },
  "language_info": {
   "codemirror_mode": {
    "name": "ipython",
    "version": 2
   },
   "file_extension": ".py",
   "mimetype": "text/x-python",
   "name": "python",
   "nbconvert_exporter": "python",
   "pygments_lexer": "ipython2",
   "version": "2.7.6"
  }
 },
 "nbformat": 4,
 "nbformat_minor": 0
}
